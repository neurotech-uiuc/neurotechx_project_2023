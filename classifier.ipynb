{
 "cells": [
  {
   "cell_type": "code",
   "execution_count": 7,
   "metadata": {},
   "outputs": [],
   "source": [
    "import csv\n",
    "import numpy as np\n",
    "import pandas as pd\n",
    "from sklearn.ensemble import RandomForestClassifier\n",
    "from sklearn.metrics import accuracy_score, confusion_matrix\n",
    "import matplotlib.pyplot as plt"
   ]
  },
  {
   "cell_type": "code",
   "execution_count": 15,
   "metadata": {},
   "outputs": [
    {
     "ename": "ValueError",
     "evalue": "Unable to coerce to DataFrame, shape must be (2733, 16): given (500, 96)",
     "output_type": "error",
     "traceback": [
      "\u001b[0;31m---------------------------------------------------------------------------\u001b[0m",
      "\u001b[0;31mValueError\u001b[0m                                Traceback (most recent call last)",
      "Cell \u001b[0;32mIn[15], line 7\u001b[0m\n\u001b[1;32m      4\u001b[0m window_end \u001b[39m=\u001b[39m \u001b[39m1500\u001b[39m\n\u001b[1;32m      5\u001b[0m base_pattern \u001b[39m=\u001b[39m base_pattern[window_start:window_end]\n\u001b[0;32m----> 7\u001b[0m filtered_signal \u001b[39m=\u001b[39m eeg_signal \u001b[39m-\u001b[39;49m np\u001b[39m.\u001b[39;49mtile(base_pattern, \u001b[39mint\u001b[39;49m(\u001b[39mlen\u001b[39;49m(eeg_signal)\u001b[39m/\u001b[39;49m\u001b[39mlen\u001b[39;49m(base_pattern))\u001b[39m+\u001b[39;49m\u001b[39m1\u001b[39;49m)[:\u001b[39mlen\u001b[39;49m(eeg_signal)]\n",
      "File \u001b[0;32m~/Code/NeuroTech/neurotechx_project_2023/project_env/lib/python3.9/site-packages/pandas/core/ops/common.py:72\u001b[0m, in \u001b[0;36m_unpack_zerodim_and_defer.<locals>.new_method\u001b[0;34m(self, other)\u001b[0m\n\u001b[1;32m     68\u001b[0m             \u001b[39mreturn\u001b[39;00m \u001b[39mNotImplemented\u001b[39m\n\u001b[1;32m     70\u001b[0m other \u001b[39m=\u001b[39m item_from_zerodim(other)\n\u001b[0;32m---> 72\u001b[0m \u001b[39mreturn\u001b[39;00m method(\u001b[39mself\u001b[39;49m, other)\n",
      "File \u001b[0;32m~/Code/NeuroTech/neurotechx_project_2023/project_env/lib/python3.9/site-packages/pandas/core/arraylike.py:110\u001b[0m, in \u001b[0;36mOpsMixin.__sub__\u001b[0;34m(self, other)\u001b[0m\n\u001b[1;32m    108\u001b[0m \u001b[39m@unpack_zerodim_and_defer\u001b[39m(\u001b[39m\"\u001b[39m\u001b[39m__sub__\u001b[39m\u001b[39m\"\u001b[39m)\n\u001b[1;32m    109\u001b[0m \u001b[39mdef\u001b[39;00m \u001b[39m__sub__\u001b[39m(\u001b[39mself\u001b[39m, other):\n\u001b[0;32m--> 110\u001b[0m     \u001b[39mreturn\u001b[39;00m \u001b[39mself\u001b[39;49m\u001b[39m.\u001b[39;49m_arith_method(other, operator\u001b[39m.\u001b[39;49msub)\n",
      "File \u001b[0;32m~/Code/NeuroTech/neurotechx_project_2023/project_env/lib/python3.9/site-packages/pandas/core/frame.py:7592\u001b[0m, in \u001b[0;36mDataFrame._arith_method\u001b[0;34m(self, other, op)\u001b[0m\n\u001b[1;32m   7589\u001b[0m axis \u001b[39m=\u001b[39m \u001b[39m1\u001b[39m  \u001b[39m# only relevant for Series other case\u001b[39;00m\n\u001b[1;32m   7590\u001b[0m other \u001b[39m=\u001b[39m ops\u001b[39m.\u001b[39mmaybe_prepare_scalar_for_op(other, (\u001b[39mself\u001b[39m\u001b[39m.\u001b[39mshape[axis],))\n\u001b[0;32m-> 7592\u001b[0m \u001b[39mself\u001b[39m, other \u001b[39m=\u001b[39m ops\u001b[39m.\u001b[39;49malign_method_FRAME(\u001b[39mself\u001b[39;49m, other, axis, flex\u001b[39m=\u001b[39;49m\u001b[39mTrue\u001b[39;49;00m, level\u001b[39m=\u001b[39;49m\u001b[39mNone\u001b[39;49;00m)\n\u001b[1;32m   7594\u001b[0m new_data \u001b[39m=\u001b[39m \u001b[39mself\u001b[39m\u001b[39m.\u001b[39m_dispatch_frame_op(other, op, axis\u001b[39m=\u001b[39maxis)\n\u001b[1;32m   7595\u001b[0m \u001b[39mreturn\u001b[39;00m \u001b[39mself\u001b[39m\u001b[39m.\u001b[39m_construct_result(new_data)\n",
      "File \u001b[0;32m~/Code/NeuroTech/neurotechx_project_2023/project_env/lib/python3.9/site-packages/pandas/core/ops/__init__.py:264\u001b[0m, in \u001b[0;36malign_method_FRAME\u001b[0;34m(left, right, axis, flex, level)\u001b[0m\n\u001b[1;32m    261\u001b[0m         right \u001b[39m=\u001b[39m to_series(right[\u001b[39m0\u001b[39m, :])\n\u001b[1;32m    263\u001b[0m     \u001b[39melse\u001b[39;00m:\n\u001b[0;32m--> 264\u001b[0m         \u001b[39mraise\u001b[39;00m \u001b[39mValueError\u001b[39;00m(\n\u001b[1;32m    265\u001b[0m             \u001b[39m\"\u001b[39m\u001b[39mUnable to coerce to DataFrame, shape \u001b[39m\u001b[39m\"\u001b[39m\n\u001b[1;32m    266\u001b[0m             \u001b[39mf\u001b[39m\u001b[39m\"\u001b[39m\u001b[39mmust be \u001b[39m\u001b[39m{\u001b[39;00mleft\u001b[39m.\u001b[39mshape\u001b[39m}\u001b[39;00m\u001b[39m: given \u001b[39m\u001b[39m{\u001b[39;00mright\u001b[39m.\u001b[39mshape\u001b[39m}\u001b[39;00m\u001b[39m\"\u001b[39m\n\u001b[1;32m    267\u001b[0m         )\n\u001b[1;32m    269\u001b[0m \u001b[39melif\u001b[39;00m right\u001b[39m.\u001b[39mndim \u001b[39m>\u001b[39m \u001b[39m2\u001b[39m:\n\u001b[1;32m    270\u001b[0m     \u001b[39mraise\u001b[39;00m \u001b[39mValueError\u001b[39;00m(\n\u001b[1;32m    271\u001b[0m         \u001b[39m\"\u001b[39m\u001b[39mUnable to coerce to Series/DataFrame, \u001b[39m\u001b[39m\"\u001b[39m\n\u001b[1;32m    272\u001b[0m         \u001b[39mf\u001b[39m\u001b[39m\"\u001b[39m\u001b[39mdimension must be <= 2: \u001b[39m\u001b[39m{\u001b[39;00mright\u001b[39m.\u001b[39mshape\u001b[39m}\u001b[39;00m\u001b[39m\"\u001b[39m\n\u001b[1;32m    273\u001b[0m     )\n",
      "\u001b[0;31mValueError\u001b[0m: Unable to coerce to DataFrame, shape must be (2733, 16): given (500, 96)"
     ]
    }
   ],
   "source": [
    "eeg_signal = pd.read_csv(\"Data/Prithvi-LE.csv\")\n",
    "base_pattern = pd.read_csv('Data/OpenBCI-RAW-Baseline.csv')\n",
    "window_start = 1000\n",
    "window_end = 1500\n",
    "base_pattern = base_pattern[window_start:window_end]\n",
    "\n",
    "filtered_signal = eeg_signal - np.tile(base_pattern, int(len(eeg_signal)/len(base_pattern))+1)[:len(eeg_signal)]\n",
    "\n"
   ]
  }
 ],
 "metadata": {
  "kernelspec": {
   "display_name": "project_env",
   "language": "python",
   "name": "python3"
  },
  "language_info": {
   "codemirror_mode": {
    "name": "ipython",
    "version": 3
   },
   "file_extension": ".py",
   "mimetype": "text/x-python",
   "name": "python",
   "nbconvert_exporter": "python",
   "pygments_lexer": "ipython3",
   "version": "3.9.12"
  },
  "orig_nbformat": 4
 },
 "nbformat": 4,
 "nbformat_minor": 2
}
